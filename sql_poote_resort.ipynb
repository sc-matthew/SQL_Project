{
    "metadata": {
        "kernelspec": {
            "name": "SQL",
            "display_name": "SQL",
            "language": "sql"
        },
        "language_info": {
            "name": "sql",
            "version": ""
        }
    },
    "nbformat_minor": 2,
    "nbformat": 4,
    "cells": [
        {
            "cell_type": "markdown",
            "source": [
                "# **Poote Resort & City Hotel**\n",
                "\n",
                "## **Executive Summary**\n",
                "\n",
                "<span style=\"font-size: 10.5pt; font-family: Arial; background-color: transparent; font-variant-numeric: normal; font-variant-east-asian: normal; vertical-align: baseline; white-space: pre-wrap;\">ข้อมูลสรุปนี้เป็นเพียงส่วนหนึ่งของแบบแสดงรายการเกี่ยวกับโรงแรม ซึ่งเป็นเพียงสรุปเบื้องต้นเกี่ยวกับข้อมูลบริษัท การตลาด และการวางแผนในอนาคต ดังนั้นผู้ที่สนใจศึกษาข้อมูลเพื่อที่จะร่วมงานกับเรา จะต้องทำการศึกษาจากรายงานฉบับเต็ม</span>\n",
                "\n",
                "<span style=\"font-size: 10.5pt; font-family: Arial; background-color: transparent; font-weight: 700; font-variant-numeric: normal; font-variant-east-asian: normal; vertical-align: baseline; white-space: pre-wrap;\">Company Information</span>\n",
                "\n",
                "<span style=\"font-size: 10.5pt; font-family: Arial; background-color: transparent; font-variant-numeric: normal; font-variant-east-asian: normal; vertical-align: baseline; white-space: pre-wrap;\">Poote Resort &amp; City Hotel เป็นโรงแรมตั้งอยู่ในตัวเมืองกรุงเทพมหานคร ตั้งขึ้นโดยมีคุณปูเต้เป็นเจ้าของ ซึ่งเป้าหมายหลัก ๆ นั้น เพื่อให้เป็นที่อยู่อาศัยชั่วคราวสำหรับผู้ที่ต้องการมาพักนอกสถานที่ และนักท่องเที่ยวที่ต้องการเดินชมในส่วนของตัวเมือง&nbsp;</span> \n",
                "\n",
                "<span style=\"font-size: 10.5pt; font-family: Arial; background-color: transparent; font-weight: 700; font-variant-numeric: normal; font-variant-east-asian: normal; vertical-align: baseline; white-space: pre-wrap;\">Product &amp; Service</span>\n",
                "\n",
                "<span style=\"font-size: 10.5pt; font-family: Arial; background-color: transparent; font-variant-numeric: normal; font-variant-east-asian: normal; vertical-align: baseline; white-space: pre-wrap;\">บริการของโรงแรมเราได้จัดเตรียมไว้ คือ resort hotel &amp; city hotel โดยสินค้าของเราเป็นประสบการณ์การใช้บริการกับทางโรงแรม ทั้ง 2 รูปแบบ รวมไปถึงรูปแบบของห้องที่หลากหลาย เพื่อตอบสนองความต้องการของลูกค้าในหลากหลายรูปแบบ</span>\n",
                "\n",
                "<span style=\"font-size: 10.5pt; font-family: Arial; background-color: transparent; font-weight: 700; font-variant-numeric: normal; font-variant-east-asian: normal; vertical-align: baseline; white-space: pre-wrap;\">Sales &amp; Marketing</span>\n",
                "\n",
                "<span style=\"font-size: 10.5pt; font-family: Arial; background-color: transparent; font-variant-numeric: normal; font-variant-east-asian: normal; vertical-align: baseline; white-space: pre-wrap;\">บริษัทของเรามีการทำโฆษณาผ่านแพลตฟอร์มต่างๆ ไม่ว่าจะเป็นบน Facebook หรือบน Instragram</span>\n",
                "\n",
                "<span style=\"font-size: 10.5pt; font-family: Arial; background-color: transparent; font-variant-numeric: normal; font-variant-east-asian: normal; vertical-align: baseline; white-space: pre-wrap;\">อีกทั้งบริษัทเรายังเป็น Partner กับนายหน้า อีกหลายคน ซึ่งบริษัทเราได้รับรายได้จากนายหน้าเหล่านี้เป็นจำนวนมาก</span>\n",
                "\n",
                "<span style=\"font-size: 10.5pt; font-family: Arial; background-color: transparent; font-weight: 700; font-variant-numeric: normal; font-variant-east-asian: normal; vertical-align: baseline; white-space: pre-wrap;\">Future Plan</span>\n",
                "\n",
                "<span style=\"font-size: 10.5pt; font-family: Arial; background-color: transparent; font-variant-numeric: normal; font-variant-east-asian: normal; vertical-align: baseline; white-space: pre-wrap;\">คุณปูเต้ มีแผนที่จะขยายกิจการไปทั่วประเทศไทย โดยอาจเริ่มจากจังหวัดที่มีนักท่องเที่ยวอยู่เป็นจำนวนมากก่อน ตัวอย่างเช่น เชียงใหม่ ที่เป็นจังหวัดที่มีสนามบินเป็นของตัวเอง และมีนักท่องเที่ยวเดินทางเข้าออกจังหวัดนี้อย่างหลากหลาย</span>\n",
                "\n",
                "<span style=\"font-size: 10.5pt; font-family: Arial; background-color: transparent; font-variant-numeric: normal; font-variant-east-asian: normal; vertical-align: baseline; white-space: pre-wrap;\">และในอีก 3 ปีข้างหน้านี้คุณปูเต้ วางแผนที่จะไปสำรวจพื้นที่ในจังหวัดเชียงใหม่</span>\n",
                "\n",
                "## **Business Background**\n",
                "\n",
                "<span style=\"font-size:11pt;font-family:Arial;background-color:transparent;font-weight:400;font-style:normal;font-variant:normal;text-decoration:none;vertical-align:baseline;white-space:pre;white-space:pre-wrap;\">Poote Resort &amp; City Hotel ตั้งที่อยู่บนพื้นที่ขนาดใหญ่ริมแม่น้ำ จังหวัดกรุงเทพมหานคร โดยมี คุณปูเต้ เป็นเจ้าของกิจการ และในปัจจุบัน กิจการโรงแรมของเรานั้น ได้แบ่งประเภทของโรงแรมเป็น 2 ประเภทอยู่บนพื้นที่เดียวกัน นั่นคือ Resort Hotel ซึ่งเป็นบ้านพักติดกับริมแม่น้ำ โดยรอบด้านเป็นสวนหย่อม และต้นไม้ เพื่อให้บรรยากาศคล้ายกับไปอยู่ต่างจังหวัด&nbsp;</span> \n",
                "\n",
                "<span style=\"font-size:11pt;font-family:Arial;background-color:transparent;font-weight:400;font-style:normal;font-variant:normal;text-decoration:none;vertical-align:baseline;white-space:pre;white-space:pre-wrap;\">และอีกโรงแรมอีกประเภทหนึ่ง คือ City Hotel มีลักษณะเป็นตึกใหญ่อยู่ด้านหลัง Resort Hotel เมื่อมองจากด้านบนจะเห็นบรรยากาศของตัวเมืองได้อย่างชัดเจน</span>\n",
                "\n",
                "<span style=\"font-size:11pt;font-family:Arial;background-color:transparent;font-weight:400;font-style:normal;font-variant:normal;text-decoration:none;vertical-align:baseline;white-space:pre;white-space:pre-wrap;\">โรงแรมของเราเน้นให้บริการห้องพัก และห้องจัดเลี้ยง ที่เรียบหรู ทันสมัย สะอาด สะดวกสบาย อยู่ใจกลางเมือง บรรจงคัดสรรสิ่งที่ดีดีที่สุดเพื่อตอบสนองความต้องการของผู้ที่เข้ามาใช้บริการ เน้นความหลากหลายของบรรยากาศ ใกล้สถานที่ท่องเที่ยว นอกเหนือจากนี้เรายังมีบริการ ในส่วนโปรแกรมท่องเที่ยว ที่จะทำให้ทุกท่านได้สัมผัสมุมมองที่สวยงามอย่างมากมาย&nbsp;</span> \n",
                "\n",
                "<span style=\"font-size:11pt;font-family:Arial;background-color:transparent;font-weight:400;font-style:normal;font-variant:normal;text-decoration:none;vertical-align:baseline;white-space:pre;white-space:pre-wrap;\">โรงแรมแต่ละประเภทของเรานั้น จะมีรูปแบบของห้องที่เหมือนกัน และสามารถแยกย่อยไปได้อีก 6 รูปแบบด้วยกัน คุณปูเต้ซึงเป็นเจ้าของธุรกิจนั้น ต้องการทราบข้อมูลเกี่ยวกับการเข้าพักของลูกค้า และ การเคลื่อนไหวของกิจการในช่วงที่ได้เปิดให้บริการมา เพื่อที่จะได้ปรับปรุงและเปลี่ยนแปลงไปในทางที่ดียิ่งขึ้นในอนาคต จึงได้สร้างฐานข้อมูลขึ้น โดยได้เก็บข้อมูลไว้ดังนี้</span>\n",
                "\n",
                "\n",
                "## **Business Rules**\n",
                "\n",
                "<span style=\"font-size:11pt;font-family:Arial;background-color:transparent;font-weight:700;font-style:normal;font-variant:normal;text-decoration:underline;-webkit-text-decoration-skip:none;text-decoration-skip-ink:none;vertical-align:baseline;white-space:pre;white-space:pre-wrap;\">Hotel</span>\n",
                "\n",
                "<span style=\"font-size:11pt;font-family:Arial;background-color:transparent;font-weight:400;font-style:normal;font-variant:normal;text-decoration:none;vertical-align:baseline;white-space:pre;white-space:pre-wrap;\">โดยประเภทของโรงแรม มีดังนี้</span>\n",
                "\n",
                "- <span style=\"font-size:11pt;font-family:Arial;background-color:transparent;font-weight:400;font-style:normal;font-variant:normal;text-decoration:none;vertical-align:baseline;white-space:pre;white-space:pre-wrap;\">Resort Hotel (RC)</span>\n",
                "    \n",
                "- <span style=\"font-size:11pt;font-family:Arial;color:background-color:transparent;font-weight:400;font-style:normal;font-variant:normal;text-decoration:none;vertical-align:baseline;white-space:pre;white-space:pre-wrap;\">City Hotel (HC)</span>\n",
                "    \n",
                "\n",
                "<span style=\"font-size:10.5pt;font-family:Arial;color:background-color:transparent;font-weight:700;font-style:normal;font-variant:normal;text-decoration:underline;-webkit-text-decoration-skip:none;text-decoration-skip-ink:none;vertical-align:baseline;white-space:pre;white-space:pre-wrap;\">Room Type</span>\n",
                "\n",
                "<span style=\"font-size:11pt;font-family:Arial;background-color:transparent;font-weight:400;font-style:normal;font-variant:normal;text-decoration:none;vertical-align:baseline;white-space:pre;white-space:pre-wrap;\">เป็นประเภทห้องพักที่ลูกค้าสามารถเลือกได้เมื่อเข้าพักในโรงแรมแต่ละประเภท ได้แก่</span>\n",
                "\n",
                "<span style=\"font-size:11pt;font-family:Arial;background-color:transparent;font-weight:400;font-style:normal;font-variant:normal;text-decoration:none;vertical-align:baseline;white-space:pre;white-space:pre-wrap;\">A - Standard Room&nbsp;</span> \n",
                "\n",
                "<span style=\"font-size:11pt;font-family:Arial;background-color:transparent;font-weight:400;font-style:normal;font-variant:normal;text-decoration:none;vertical-align:baseline;white-space:pre;white-space:pre-wrap;\">B - Superior Room&nbsp;</span> \n",
                "\n",
                "<span style=\"font-size:11pt;font-family:Arial;background-color:transparent;font-weight:400;font-style:normal;font-variant:normal;text-decoration:none;vertical-align:baseline;white-space:pre;white-space:pre-wrap;\">C - Luxury Room&nbsp;</span> \n",
                "\n",
                "<span style=\"font-size:11pt;font-family:Arial;background-color:transparent;font-weight:400;font-style:normal;font-variant:normal;text-decoration:none;vertical-align:baseline;white-space:pre;white-space:pre-wrap;\">D - Suite Room</span>\n",
                "\n",
                "<span style=\"font-size:11pt;font-family:Arial;background-color:transparent;font-weight:400;font-style:normal;font-variant:normal;text-decoration:none;vertical-align:baseline;white-space:pre;white-space:pre-wrap;\">E - Ultra Room&nbsp;</span> \n",
                "\n",
                "<span style=\"font-size:11pt;font-family:Arial;background-color:transparent;font-weight:400;font-style:normal;font-variant:normal;text-decoration:none;vertical-align:baseline;white-space:pre;white-space:pre-wrap;\">F - Deluxe Room&nbsp;</span> \n",
                "\n",
                "<span style=\"font-size:10.5pt;font-family:Arial;background-color:transparent;font-weight:700;font-style:normal;font-variant:normal;text-decoration:underline;-webkit-text-decoration-skip:none;text-decoration-skip-ink:none;vertical-align:baseline;white-space:pre;white-space:pre-wrap;\">Hotelroom type</span>\n",
                "\n",
                "<span style=\"font-size:10.5pt;font-family:Arial;background-color:transparent;font-weight:400;font-style:normal;font-variant:normal;text-decoration:none;vertical-align:baseline;white-space:pre;white-space:pre-wrap;\">เป็นข้อมูลประเภทของโรงแรม และห้องแต่ละประเภทที่ลูกค้าสามารถเข้าไปใช้บริการได้ โดย&nbsp;</span> \n",
                "\n",
                "<span style=\"font-size:10.5pt;font-family:Arial;background-color:transparent;font-weight:400;font-style:normal;font-variant:normal;text-decoration:none;vertical-align:baseline;white-space:pre;white-space:pre-wrap;\">จะเก็บข้อมูลของประเภทของโรงแรมทั้ง 2 รูปแบบ</span>\n",
                "\n",
                "<span style=\"font-size:10.5pt;font-family:Arial;background-color:transparent;font-weight:400;font-style:normal;font-variant:normal;text-decoration:none;vertical-align:baseline;white-space:pre;white-space:pre-wrap;\">RH จะหมายถึงรูปแบบ Resort Hotel&nbsp;</span> \n",
                "\n",
                "<span style=\"font-size:10.5pt;font-family:Arial;background-color:transparent;font-weight:400;font-style:normal;font-variant:normal;text-decoration:none;vertical-align:baseline;white-space:pre;white-space:pre-wrap;\">CH จะหมายถึงรูปแบบ City Hotel&nbsp;</span> \n",
                "\n",
                "<span style=\"font-size:10.5pt;font-family:Arial;background-color:transparent;font-weight:400;font-style:normal;font-variant:normal;text-decoration:none;vertical-align:baseline;white-space:pre;white-space:pre-wrap;\">และเก็บรูปแบบของห้องในโรงแรมทั้ง 2 ประเภท</span>\n",
                "\n",
                "<span style=\"font-size:10.5pt;font-family:Arial;background-color:transparent;font-weight:400;font-style:normal;font-variant:normal;text-decoration:none;vertical-align:baseline;white-space:pre;white-space:pre-wrap;\">เช่น หากเลือกเป็น City Hotel รูปแบบห้อง A จะแสดงข้อมูลในรูปแบบ CHA เป็นต้น</span>\n",
                "\n",
                "<span style=\"font-size:10.5pt;font-family:Arial;background-color:transparent;font-weight:700;font-style:normal;font-variant:normal;text-decoration:underline;-webkit-text-decoration-skip:none;text-decoration-skip-ink:none;vertical-align:baseline;white-space:pre;white-space:pre-wrap;\">Meal</span>\n",
                "\n",
                "<span style=\"font-size:10.5pt;font-family:Arial;background-color:transparent;font-weight:400;font-style:normal;font-variant:normal;text-decoration:none;vertical-align:baseline;white-space:pre;white-space:pre-wrap;\">ในการจัดอาหารสำหรับแต่ละห้องพัก ทางโรงแรมจะต้องกำหนดเมนูอาหาร และจัดเมนูเป็นชุดสำหรับบริการให้แก่ลูกค้าที่จองมื้ออาหารรวมกับห้องพักด้วย&nbsp;</span> \n",
                "\n",
                "<span style=\"font-size:10.5pt;font-family:Arial;background-color:transparent;font-weight:400;font-style:normal;font-variant:normal;text-decoration:none;vertical-align:baseline;white-space:pre;white-space:pre-wrap;\">SC – no meal package</span>\n",
                "\n",
                "<span style=\"font-size:10.5pt;font-family:Arial;background-color:transparent;font-weight:400;font-style:normal;font-variant:normal;text-decoration:none;vertical-align:baseline;white-space:pre;white-space:pre-wrap;\">BB – Bed &amp; Breakfast (breakfast only)</span>\n",
                "\n",
                "<span style=\"font-size:10.5pt;font-family:Arial;background-color:transparent;font-weight:400;font-style:normal;font-variant:normal;text-decoration:none;vertical-align:baseline;white-space:pre;white-space:pre-wrap;\">HB – Half board (breakfast and dinner)</span>\n",
                "\n",
                "<span style=\"font-size:10.5pt;font-family:Arial;background-color:transparent;font-weight:400;font-style:normal;font-variant:normal;text-decoration:none;vertical-align:baseline;white-space:pre;white-space:pre-wrap;\">FB – Full board (breakfast, lunch and dinner)</span>\n",
                "\n",
                "<span style=\"font-size:10.5pt;font-family:Arial;background-color:transparent;font-weight:700;font-style:normal;font-variant:normal;text-decoration:underline;-webkit-text-decoration-skip:none;text-decoration-skip-ink:none;vertical-align:baseline;white-space:pre;white-space:pre-wrap;\">Hotel_roomtype_meal</span>\n",
                "\n",
                "<span style=\"font-size:10.5pt;font-family:Arial;background-color:transparent;font-weight:400;font-style:normal;font-variant:normal;text-decoration:none;vertical-align:baseline;white-space:pre;white-space:pre-wrap;\">เป็นการเก็บข้อมูลราคาที่ต้องจ่ายในแต่ละห้องพัก โดยราคานั้นจะขึ้นอยู่กับ ประเภทของโรงแรม ประเภทของห้องพัก และ ประเภทชุดของอาหาร</span>\n",
                "\n",
                "<span style=\"font-size:10.5pt;font-family:Arial;background-color:transparent;font-weight:400;font-style:normal;font-variant:normal;text-decoration:none;vertical-align:baseline;white-space:pre;white-space:pre-wrap;\">ซึ่งใน 1 การจองนั้นจะสามารถสั่งมื้ออาหารได้รูปแบบเดียวกันต่อหนึ่งห้องเท่านั้น&nbsp;</span> \n",
                "\n",
                "<span style=\"font-size:10.5pt;font-family:Arial;background-color:transparent;font-weight:400;font-style:normal;font-variant:normal;text-decoration:none;vertical-align:baseline;white-space:pre;white-space:pre-wrap;\">โดยราคานี้ เป็นการคิดราคาแบบเหมาจ่าย และจะไม่ขึ้นอยู่กับจำนวนคนที่เข้าห้องพัก&nbsp;</span> \n",
                "\n",
                "<span style=\"font-size:10.5pt;font-family:Arial;background-color:transparent;font-weight:400;font-style:normal;font-variant:normal;text-decoration:none;vertical-align:baseline;white-space:pre;white-space:pre-wrap;\">เช่น City Hotel - Room Type A - Full board จะมีราคาอยู่ที่ 3000 บาท/คืน จะแสดง ID ในรูปแบบของ CHAFB</span>\n",
                "\n",
                "<span style=\"font-size:10.5pt;font-family:Arial;background-color:transparent;font-weight:700;font-style:normal;font-variant:normal;text-decoration:underline;-webkit-text-decoration-skip:none;text-decoration-skip-ink:none;vertical-align:baseline;white-space:pre;white-space:pre-wrap;\">Deposit</span>\n",
                "\n",
                "<span style=\"font-size:10.5pt;font-family:Arial;background-color:transparent;font-weight:400;font-style:normal;font-variant:normal;text-decoration:none;vertical-align:baseline;white-space:pre;white-space:pre-wrap;\">ในการจองของลูกค้านั้น สามารถเลือกรุปแบบการมัดจำได้เพียง 1 รูปแบบเท่านั้น อาจจะได้ห้องตรงตามที่เลือกหรือไม่นั้นขึ้นอยู่กับพนักงานเป็นคนจัดสรร</span>\n",
                "\n",
                "<span style=\"font-size:10.5pt;font-family:Arial;background-color:transparent;font-weight:400;font-style:normal;font-variant:normal;text-decoration:none;vertical-align:baseline;white-space:pre;white-space:pre-wrap;\">กรณีที่มีการมัดจำ Deposit&nbsp;</span> \n",
                "\n",
                "<span style=\"font-size:11pt;font-family:Arial;background-color:transparent;font-weight:400;font-style:normal;font-variant:normal;text-decoration:none;vertical-align:baseline;white-space:pre;white-space:pre-wrap;\">ND - No deposit </span> <span style=\"font-size:11pt;font-family:Arial;background-color:transparent;font-weight:400;font-style:normal;font-variant:normal;text-decoration:none;vertical-align:baseline;white-space:pre;white-space:pre-wrap;\">0% </span> <span style=\"font-size:11pt;font-family:Arial;background-color:transparent;font-weight:400;font-style:normal;font-variant:normal;text-decoration:none;vertical-align:baseline;white-space:pre;white-space:pre-wrap;\">ไม่รับประกันว่าจะได้ห้องตามที่จองไว้</span>\n",
                "\n",
                "<span style=\"font-size:11pt;font-family:Arial;background-color:transparent;font-weight:400;font-style:normal;font-variant:normal;text-decoration:none;vertical-align:baseline;white-space:pre;white-space:pre-wrap;\">RF - Refundable </span> <span style=\"font-size:11pt;font-family:Arial;background-color:transparent;font-weight:400;font-style:normal;font-variant:normal;text-decoration:none;vertical-align:baseline;white-space:pre;white-space:pre-wrap;\">50% </span> <span style=\"font-size:11pt;font-family:Arial;background-color:transparent;font-weight:400;font-style:normal;font-variant:normal;text-decoration:none;vertical-align:baseline;white-space:pre;white-space:pre-wrap;\">ไม่รับประกันว่าจะได้ห้องตามที่จองไว้</span>\n",
                "\n",
                "<span style=\"font-size:11pt;font-family:Arial;background-color:transparent;font-weight:400;font-style:normal;font-variant:normal;text-decoration:none;vertical-align:baseline;white-space:pre;white-space:pre-wrap;\">NR - Non refundable </span> <span style=\"font-size:11pt;font-family:Arial;background-color:transparent;font-weight:400;font-style:normal;font-variant:normal;text-decoration:none;vertical-align:baseline;white-space:pre;white-space:pre-wrap;\">100%</span> <span style=\"font-size:11pt;font-family:Arial;background-color:transparent;font-weight:400;font-style:normal;font-variant:normal;text-decoration:none;vertical-align:baseline;white-space:pre;white-space:pre-wrap;\">รับประกันได้ห้องตามที่จอง</span>\n",
                "\n",
                "<span style=\"font-size:10.5pt;font-family:Arial;background-color:transparent;font-weight:700;font-style:normal;font-variant:normal;text-decoration:underline;-webkit-text-decoration-skip:none;text-decoration-skip-ink:none;vertical-align:baseline;white-space:pre;white-space:pre-wrap;\">Agent</span>\n",
                "\n",
                "<span style=\"font-size:10.5pt;font-family:Arial;background-color:transparent;font-weight:400;font-style:normal;font-variant:normal;text-decoration:none;vertical-align:baseline;white-space:pre;white-space:pre-wrap;\">ลูกค้าที่เข้าใช้บริการนั้น สามารถจองเองโดยตรงกับทางโรงแรมได้เลย หรือจะสามารถจองผ่านนายหน้าที่เป็นคนกลางช่วยจองโรงแรมให้ก็ได้ โดยนายหน้า1 คนจะมีเพียงหนึ่งไอดี และ การที่ลูกค้ามีการจองหนึ่งครั้งนั้นสามารถขึ้นตรงกับนายหน้าได้เพียงคนเดียวเท่านั้น</span>\n",
                "\n",
                "<span style=\"font-size:10.5pt;font-family:Arial;background-color:transparent;font-weight:700;font-style:normal;font-variant:normal;text-decoration:underline;-webkit-text-decoration-skip:none;text-decoration-skip-ink:none;vertical-align:baseline;white-space:pre;white-space:pre-wrap;\">Reservation</span>\n",
                "\n",
                "<span style=\"font-size:10.5pt;font-family:Arial;background-color:transparent;font-weight:400;font-style:normal;font-variant:normal;text-decoration:none;vertical-align:baseline;white-space:pre;white-space:pre-wrap;\">ในการจองหนึ่งครั้ง ลูกค้าต้องแจ้งทางโรงแรม ดังต่อไปนี้</span>\n",
                "\n",
                "- <span style=\"font-size:10.5pt;font-family:Arial;background-color:transparent;font-weight:400;font-style:normal;font-variant:normal;text-decoration:none;vertical-align:baseline;white-space:pre;white-space:pre-wrap;\">วันที่เข้าพัก (CheckIn)และวันที่จะออกจากที่พัก (CheckOut)</span>\n",
                "    \n",
                "- <span style=\"font-size:10.5pt;font-family:Arial;background-color:transparent;font-weight:400;font-style:normal;font-variant:normal;text-decoration:none;vertical-align:baseline;white-space:pre;white-space:pre-wrap;\">ต้องการเข้าพักในโรงแรมรูปแบบใด ( 2 รูปแบบ )&nbsp;</span> \n",
                "    \n",
                "- <span style=\"font-size:10.5pt;font-family:Arial;background-color:transparent;font-weight:400;font-style:normal;font-variant:normal;text-decoration:none;vertical-align:baseline;white-space:pre;white-space:pre-wrap;\">ต้องการเลือกห้องพักประเภทไหน ( 6 รูปแบบ )</span>\n",
                "    \n",
                "- <span style=\"font-size:10.5pt;font-family:Arial;background-color:transparent;font-weight:400;font-style:normal;font-variant:normal;text-decoration:none;vertical-align:baseline;white-space:pre;white-space:pre-wrap;\">เข้าใช้บริการกี่คน แบ่งผู้เข้าใช้บริการเป็นผู้ใหญ่ เด็ก และเด็กทารก</span>\n",
                "    \n",
                "- <span style=\"font-size:10.5pt;font-family:Arial;background-color:transparent;font-weight:400;font-style:normal;font-variant:normal;text-decoration:none;vertical-align:baseline;white-space:pre;white-space:pre-wrap;\">ต้องการรับบริการอาหารในรูปแบบใด (4 รูปแบบ)</span>\n",
                "    \n",
                "- <span style=\"font-size:10.5pt;font-family:Arial;background-color:transparent;font-weight:400;font-style:normal;font-variant:normal;text-decoration:none;vertical-align:baseline;white-space:pre;white-space:pre-wrap;\">ต้องการจ่ายมัดจำหรือไม่ และหากต้องการ จะจ่ายประเภทไหน (4 รูปแบบ - รวมกรณีที่ไม่มัดจำแล้ว)</span>\n",
                "    \n",
                "- <span style=\"font-size:10.5pt;font-family:Arial;background-color:transparent;font-weight:400;font-style:normal;font-variant:normal;text-decoration:none;vertical-align:baseline;white-space:pre;white-space:pre-wrap;\">มีการจองผ่าน agent หรือไหม ถ้ามีให้ระบุ id ของ agent เพื่อเป็นการรับรองและยืนยันตัวบุคคล&nbsp;</span> \n",
                "    \n",
                "- <span style=\"font-size:10.5pt;font-family:Arial;background-color:transparent;font-weight:400;font-style:normal;font-variant:normal;text-decoration:none;vertical-align:baseline;white-space:pre;white-space:pre-wrap;\">ต้องการ Parking Space กี่ที่</span>\n",
                "    \n",
                "\n",
                "<span style=\"font-size:10.5pt;font-family:Arial;background-color:transparent;font-weight:400;font-style:normal;font-variant:normal;text-decoration:none;vertical-align:baseline;white-space:pre;white-space:pre-wrap;\">ในการจองของลูกค้า 1 ครั้งนั้น สามารถจองห้องพักได้เพียง 1 ห้องเท่านั้น และจะมีเวลา check-in, check-out อย่างละครั้งเท่านั้นไม่สามารถเปลี่ยนแปลงเวลาได้</span>\n",
                "\n",
                "<span style=\"font-size:10.5pt;font-family:Arial;background-color:transparent;font-weight:400;font-style:normal;font-variant:normal;text-decoration:none;vertical-align:baseline;white-space:pre;white-space:pre-wrap;\">ในการจองของลูกค้านั้น อาจจะได้ห้องตรงตามที่เลือกหรือไม่นั้นขึ้นอยู่กับพนักงานเป็นคนจัดสรร</span>\n",
                "\n",
                "<span style=\"font-size:10.5pt;font-family:Arial;background-color:transparent;font-weight:400;font-style:normal;font-variant:normal;text-decoration:none;vertical-align:baseline;white-space:pre;white-space:pre-wrap;\">นั่นหมายความว่าในการจอง 1 ครั้งจะสามารถมีการมัดจำได้เพียง 1 รูปแบบเท่านั้น&nbsp;</span> \n",
                "\n",
                "<span style=\"font-size:10.5pt;font-family:Arial;background-color:transparent;font-weight:400;font-style:normal;font-variant:normal;text-decoration:none;vertical-align:baseline;white-space:pre;white-space:pre-wrap;\">ในการจองอาหารนั้น ทางโรงแรมจะคิดราคาอาหารรวมกับค่าห้อง ที่ลูกค้าพัก&nbsp;</span> \n",
                "\n",
                "<span style=\"font-size:10.5pt;font-family:Arial;background-color:transparent;font-weight:400;font-style:normal;font-variant:normal;text-decoration:none;vertical-align:baseline;white-space:pre;white-space:pre-wrap;\">ใน 1 การจองนั้นจะสามารถสั่งอาหารได้รูปแบบเดียวเท่านั้น&nbsp;</span> \n",
                "\n",
                "<span style=\"font-size:10.5pt;font-family:Arial;background-color:transparent;font-weight:400;font-style:normal;font-variant:normal;text-decoration:none;vertical-align:baseline;white-space:pre;white-space:pre-wrap;\">และ รูปแบบของอาหารสามารถเปลี่ยนได้ ในวันที่มา check-in (วันที่มีการทราบ รูปแบบห้อง)</span>\n",
                "\n",
                "<span style=\"font-size:10.5pt;font-family:Arial;background-color:transparent;font-weight:400;font-style:normal;font-variant:normal;text-decoration:none;vertical-align:baseline;white-space:pre;white-space:pre-wrap;\">เมื่อลูกค้าจองที่พัก จะบันทึกว่าลูกค้านั้นมีการเข้าพัก ณ วันที่/เวลาใด และมีการออกจากห้องพัก ณ วันที่/เวลาใด</span>\n",
                "\n",
                "- <span style=\"font-size:10.5pt;font-family:Arial;background-color:transparent;font-weight:400;font-style:normal;font-variant:normal;text-decoration:none;vertical-align:baseline;white-space:pre;white-space:pre-wrap;\">กรณีที่ Cancel แปลว่าลูกค้าจะไม่มาใช้บริการ จะไม่มีการ Check in/ Check out</span>\n",
                "    \n",
                "- <span style=\"font-size:10.5pt;font-family:Arial;background-color:transparent;font-weight:400;font-style:normal;font-variant:normal;text-decoration:none;vertical-align:baseline;white-space:pre;white-space:pre-wrap;\">กรณีที่ ลูกค้าไม่มีได้มีการยกเลิกการใช้บริการ แต่ไม่มาใช้บริการเอง จะไม่มีข้อมูล Check in / Check out / Cancel</span>"
            ],
            "metadata": {
                "language": "sql",
                "azdata_cell_guid": "ad2e7a78-984c-4bd0-ac6d-629b1ebb2284"
            },
            "attachments": {}
        },
        {
            "cell_type": "markdown",
            "source": [
                "---"
            ],
            "metadata": {
                "language": "sql",
                "azdata_cell_guid": "6fefec35-ff8f-46ae-bde6-462c6005cbb5"
            },
            "attachments": {}
        },
        {
            "cell_type": "markdown",
            "source": [
                "## ERD (Entity Relationship Diagram)\r\n",
                "\r\n",
                "![erd_hotel.png](attachment:erd_hotel.png)\r\n",
                ""
            ],
            "metadata": {
                "azdata_cell_guid": "49f93eb9-1753-42ae-aafd-0eae19cbaba8"
            },
            "attachments": {
                "erd_hotel.png": {
                    "image/png": "[encoded data removed]"
                }
            }
        },
        {
            "cell_type": "markdown",
            "source": [
                "---"
            ],
            "metadata": {
                "language": "sql",
                "azdata_cell_guid": "50fded1f-ea90-475f-b1e4-19dc325412b6"
            },
            "attachments": {}
        },
        {
            "cell_type": "markdown",
            "source": [
                "## Business Questions\r\n",
                "\r\n",
                "- ในภาพรวมของคำตอบนั้นเกิดจากการ run query โดยมี range ในช่วงเวลาของข้อมูลที่ทำการวิเคราะห์อยู่ ตั้งแต่เดือนกรกฏาคม 2015 จนถึงเดือนสิงหาคม ปี 2017 ซึ่งรายละเอียดการประยุกต์ใช้ของคำถามแต่ละข้อจะอธิบายละเอียดในข้อนั้นๆ \r\n",
                ""
            ],
            "metadata": {
                "language": "sql",
                "azdata_cell_guid": "3b623632-d8b9-4ba6-8f73-1291eaf536f8"
            },
            "attachments": {}
        },
        {
            "cell_type": "markdown",
            "source": [
                "### Q1. ลูกค้าส่วนใหญ่ใช้บริการห้องพักในรูปแบบใด\r\n",
                "> Suggestion : เนื่องจากคุณปูเต้มีวิสัยทัศน์ที่กว้างไกลซึ่งท่านได้ระบุว่าการที่อยากทราบว่าลูกค้าส่วนใหญ่ใช้บริการห้องพักแบบใด เนื่องจากบริษัทของเรากำลังมีแผนที่จะขยายสาขาของโรงแรมออกไปยังสถานที่ต่างๆ เพื่อที่จะสามารถสร้างโอกาสทางธุรกิจให้มากขึ้น\r\n",
                ">\r\n",
                ">ดังนั้นแล้วการสร้างโรงแรมใหม่นั้น สิ่งที่สำคัญที่สุดคือการออกแบบห้องพักว่า เราควรให้สัดส่วนของห้องพักแบบใดมากที่สุด โดยอ้างอิงจากผลลัพธ์จะเห็นว่า Standard และ Suite room มีผู้เข้าพักมากที่สุด สำหรับทั้ง City Hotel และ Resort Hotel ซึ่งจากข้อมูลทางสถิติเหล่านี้ จะทำให้เราวางแผนในขั้นการสร้างโรงแรมได้ว่า ควรมีสัดส่วนของห้องพักทั้ง 2 แบบนี้เป็นจำนวนมากที่สุด เพื่อที่จะได้มั่นใจได้ว่า มีห้องพักในรูปแบบนี้ เพียงพอกับความต้องการของลูกค้า"
            ],
            "metadata": {
                "language": "sql",
                "azdata_cell_guid": "d897ee4c-bad6-4999-8786-a832b778cf01"
            },
            "attachments": {}
        },
        {
            "cell_type": "code",
            "source": [
                "select hdescr \"Hotel_Type\" \r\n",
                "    ,rdescr \"Room_Type\"\r\n",
                "    ,count(hotel_room_meal_id) \"Number_of_Reservations\"\r\n",
                "from reservation\r\n",
                "inner join \"Hotel_roomtype_Meal\" on hotelroommeal_id = hotel_room_meal_id\r\n",
                "inner join \"Hotel_roomtype\" using(hotelroomid) \r\n",
                "inner join roomtype using (roomid) \r\n",
                "inner join \"Hotel\" using  (hotelid)\r\n",
                "\r\n",
                "group by \"Hotel_Type\" ,\"Room_Type\"\r\n",
                "order by count(hotel_room_meal_id) desc"
            ],
            "metadata": {
                "azdata_cell_guid": "f013632d-aa23-49f4-be47-8743847b5d44",
                "language": "sql",
                "tags": []
            },
            "outputs": [
                {
                    "output_type": "display_data",
                    "data": {
                        "text/html": "(12 row(s) affected)"
                    },
                    "metadata": {}
                },
                {
                    "output_type": "display_data",
                    "data": {
                        "text/html": "Total execution time: 00:00:00.160"
                    },
                    "metadata": {}
                },
                {
                    "output_type": "execute_result",
                    "metadata": {},
                    "execution_count": 16,
                    "data": {
                        "application/vnd.dataresource+json": {
                            "schema": {
                                "fields": [
                                    {
                                        "name": "Hotel_Type"
                                    },
                                    {
                                        "name": "Room_Type"
                                    },
                                    {
                                        "name": "Number_of_Reservations"
                                    }
                                ]
                            },
                            "data": [
                                {
                                    "0": "City Hotel",
                                    "1": "Standard room",
                                    "2": "35822"
                                },
                                {
                                    "0": "Resort Hotel",
                                    "1": "Standard room",
                                    "2": "16932"
                                },
                                {
                                    "0": "City Hotel",
                                    "1": "Suite room",
                                    "2": "10445"
                                },
                                {
                                    "0": "Resort Hotel",
                                    "1": "Suite room",
                                    "2": "6243"
                                },
                                {
                                    "0": "Resort Hotel",
                                    "1": "Ultra room",
                                    "2": "4315"
                                },
                                {
                                    "0": "City Hotel",
                                    "1": "Deluxe room",
                                    "2": "1650"
                                },
                                {
                                    "0": "City Hotel",
                                    "1": "Ultra room",
                                    "2": "1412"
                                },
                                {
                                    "0": "Resort Hotel",
                                    "1": "Deluxe room",
                                    "2": "1004"
                                },
                                {
                                    "0": "City Hotel",
                                    "1": "Superior room",
                                    "2": "911"
                                },
                                {
                                    "0": "Resort Hotel",
                                    "1": "Luxury room",
                                    "2": "859"
                                },
                                {
                                    "0": "City Hotel",
                                    "1": "Luxury room",
                                    "2": "13"
                                },
                                {
                                    "0": "Resort Hotel",
                                    "1": "Superior room",
                                    "2": "3"
                                }
                            ]
                        },
                        "text/html": [
                            "<table>",
                            "<tr><th>Hotel_Type</th><th>Room_Type</th><th>Number_of_Reservations</th></tr>",
                            "<tr><td>City Hotel</td><td>Standard room</td><td>35822</td></tr>",
                            "<tr><td>Resort Hotel</td><td>Standard room</td><td>16932</td></tr>",
                            "<tr><td>City Hotel</td><td>Suite room</td><td>10445</td></tr>",
                            "<tr><td>Resort Hotel</td><td>Suite room</td><td>6243</td></tr>",
                            "<tr><td>Resort Hotel</td><td>Ultra room</td><td>4315</td></tr>",
                            "<tr><td>City Hotel</td><td>Deluxe room</td><td>1650</td></tr>",
                            "<tr><td>City Hotel</td><td>Ultra room</td><td>1412</td></tr>",
                            "<tr><td>Resort Hotel</td><td>Deluxe room</td><td>1004</td></tr>",
                            "<tr><td>City Hotel</td><td>Superior room</td><td>911</td></tr>",
                            "<tr><td>Resort Hotel</td><td>Luxury room</td><td>859</td></tr>",
                            "<tr><td>City Hotel</td><td>Luxury room</td><td>13</td></tr>",
                            "<tr><td>Resort Hotel</td><td>Superior room</td><td>3</td></tr>",
                            "</table>"
                        ]
                    }
                }
            ],
            "execution_count": 16
        },
        {
            "cell_type": "markdown",
            "source": [
                "### Q2. ลูกค้าเข้า Check In และ Check Out ในช่วงเวลาใดมากที่สุด\n",
                "\n",
                "> Suggestion : การวางแผนการจ้างพนักงานของโรงแรมเป็นสิ่งสำคัญ หากเราจ้างพนักงานมากเกินไป หรือน้อยเกินไป ก็อาจไม่เป็นผลดีกับบริษัทในเรื่องของค่าใช้จ่าย รวมถึงตำแหน่ง/สถานที่ที่รับผิดชอบของงาน เช่น พนักงาน reception ต้องอยู่หน้า front คอยจัดการเรื่องของการ Check In และรับสายจากลูกค้า พนักงานยกกระเป๋าต้องอยู่บริเวณ Lobby เพื่อช่วยอำนวยความสะดวกให้กับลูกค้าเป็นต้น\n",
                "> \n",
                "> ดังนั้นแล้ว จากผลลัพธ์ที่แสดงจะทำให้เราเห็นว่า ส่วนใหญ่แล้วลูกค้าจะเข้ามา Check In ตั้งแต่ช่วง 14.00-16.00 ซึ่งในส่วนนี้เราอาจเพิ่มจำนวนของพนักงานหน้า front และพนักงานยกกระเป๋าให้อยู่บริเวณด้านหน้าของโรงแรมมากกว่าช่วงเวลาอื่นๆ ในขณะเดียวกันลูกค้าจะนิยม Check Out ออกตั้งแต่ช่วงเวลา 9.00 - 11.00 ซึ่งในส่วนนี้เราต้องมีจำนวนแม่บ้าน/คนทำความสะอาดมากที่สุดในช่วงเวลาดังกล่าว เพื่อตรวจสอบสิ่งที่ชำรุดเสียหายและสิ่งที่ลูกค้าอาจลืมไว้ในห้อง ซึ่งจะช่วยเพิ่มประสิทธิภาพของการดำเนินงานในภาพรวมของโรงแรมได้"
            ],
            "metadata": {
                "language": "sql",
                "azdata_cell_guid": "2f36a9f9-7af6-46fe-a6bd-00aebba78d30"
            },
            "attachments": {}
        },
        {
            "cell_type": "code",
            "source": [
                "select 'Check In' \"Status\"\r\n",
                "    ,to_char(EXTRACT(HOUR from checkin),'00.00') \"Time\"\r\n",
                "    , count(res_dt) \"Number_of_Reservations\" \r\n",
                "    from reservation\r\n",
                "WHERE checkin is not NULL\r\n",
                "GROUP BY \"Time\"\r\n",
                "\r\n",
                "UNION\r\n",
                "\r\n",
                "select 'Check Out' \"Status\"\r\n",
                "    ,to_char(EXTRACT(HOUR from checkout),'00.00') \"Time\"\r\n",
                "    , count(res_dt) \"Number_of_Reservations\" \r\n",
                "    from reservation\r\n",
                "WHERE checkout is not NULL\r\n",
                "GROUP BY \"Time\"\r\n",
                "ORDER BY \"Number_of_Reservations\" DESC"
            ],
            "metadata": {
                "azdata_cell_guid": "cbe043c0-8d3b-43fb-a37c-61e6365b480a",
                "language": "sql"
            },
            "outputs": [
                {
                    "output_type": "display_data",
                    "data": {
                        "text/html": "(20 row(s) affected)"
                    },
                    "metadata": {}
                },
                {
                    "output_type": "display_data",
                    "data": {
                        "text/html": "Total execution time: 00:00:00.124"
                    },
                    "metadata": {}
                },
                {
                    "output_type": "execute_result",
                    "metadata": {},
                    "execution_count": 17,
                    "data": {
                        "application/vnd.dataresource+json": {
                            "schema": {
                                "fields": [
                                    {
                                        "name": "Status"
                                    },
                                    {
                                        "name": "Time"
                                    },
                                    {
                                        "name": "Number_of_Reservations"
                                    }
                                ]
                            },
                            "data": [
                                {
                                    "0": "Check In",
                                    "1": " 15.00",
                                    "2": "15451"
                                },
                                {
                                    "0": "Check In",
                                    "1": " 14.00",
                                    "2": "15390"
                                },
                                {
                                    "0": "Check In",
                                    "1": " 16.00",
                                    "2": "9221"
                                },
                                {
                                    "0": "Check Out",
                                    "1": " 11.00",
                                    "2": "8623"
                                },
                                {
                                    "0": "Check Out",
                                    "1": " 09.00",
                                    "2": "8588"
                                },
                                {
                                    "0": "Check Out",
                                    "1": " 10.00",
                                    "2": "8570"
                                },
                                {
                                    "0": "Check Out",
                                    "1": " 08.00",
                                    "2": "8565"
                                },
                                {
                                    "0": "Check Out",
                                    "1": " 07.00",
                                    "2": "7161"
                                },
                                {
                                    "0": "Check Out",
                                    "1": " 06.00",
                                    "2": "7143"
                                },
                                {
                                    "0": "Check In",
                                    "1": " 18.00",
                                    "2": "3605"
                                },
                                {
                                    "0": "Check In",
                                    "1": " 17.00",
                                    "2": "3572"
                                },
                                {
                                    "0": "Check In",
                                    "1": " 20.00",
                                    "2": "3567"
                                },
                                {
                                    "0": "Check In",
                                    "1": " 19.00",
                                    "2": "3554"
                                },
                                {
                                    "0": "Check Out",
                                    "1": " 03.00",
                                    "2": "2891"
                                },
                                {
                                    "0": "Check Out",
                                    "1": " 04.00",
                                    "2": "2868"
                                },
                                {
                                    "0": "Check Out",
                                    "1": " 05.00",
                                    "2": "2813"
                                },
                                {
                                    "0": "Check In",
                                    "1": " 22.00",
                                    "2": "1116"
                                },
                                {
                                    "0": "Check In",
                                    "1": " 21.00",
                                    "2": "1064"
                                },
                                {
                                    "0": "Check In",
                                    "1": " 23.00",
                                    "2": "683"
                                },
                                {
                                    "0": "Check Out",
                                    "1": " 12.00",
                                    "2": "1"
                                }
                            ]
                        },
                        "text/html": [
                            "<table>",
                            "<tr><th>Status</th><th>Time</th><th>Number_of_Reservations</th></tr>",
                            "<tr><td>Check In</td><td> 15.00</td><td>15451</td></tr>",
                            "<tr><td>Check In</td><td> 14.00</td><td>15390</td></tr>",
                            "<tr><td>Check In</td><td> 16.00</td><td>9221</td></tr>",
                            "<tr><td>Check Out</td><td> 11.00</td><td>8623</td></tr>",
                            "<tr><td>Check Out</td><td> 09.00</td><td>8588</td></tr>",
                            "<tr><td>Check Out</td><td> 10.00</td><td>8570</td></tr>",
                            "<tr><td>Check Out</td><td> 08.00</td><td>8565</td></tr>",
                            "<tr><td>Check Out</td><td> 07.00</td><td>7161</td></tr>",
                            "<tr><td>Check Out</td><td> 06.00</td><td>7143</td></tr>",
                            "<tr><td>Check In</td><td> 18.00</td><td>3605</td></tr>",
                            "<tr><td>Check In</td><td> 17.00</td><td>3572</td></tr>",
                            "<tr><td>Check In</td><td> 20.00</td><td>3567</td></tr>",
                            "<tr><td>Check In</td><td> 19.00</td><td>3554</td></tr>",
                            "<tr><td>Check Out</td><td> 03.00</td><td>2891</td></tr>",
                            "<tr><td>Check Out</td><td> 04.00</td><td>2868</td></tr>",
                            "<tr><td>Check Out</td><td> 05.00</td><td>2813</td></tr>",
                            "<tr><td>Check In</td><td> 22.00</td><td>1116</td></tr>",
                            "<tr><td>Check In</td><td> 21.00</td><td>1064</td></tr>",
                            "<tr><td>Check In</td><td> 23.00</td><td>683</td></tr>",
                            "<tr><td>Check Out</td><td> 12.00</td><td>1</td></tr>",
                            "</table>"
                        ]
                    }
                }
            ],
            "execution_count": 17
        },
        {
            "cell_type": "markdown",
            "source": [
                "### Q3. Agent คนใดที่ทำรายได้สูงที่สุด \r\n",
                "\r\n",
                ">\tSuggestion : เหตุผลที่เรามีการให้ความสำคัญกับ agent ที่ทำรายได้สูงสุด จึงขอยกตัวอย่างในธุรกิจอื่นให้เห็นภาพเบื้องต้นก่อน เช่น ในธุรกิจประกัน สำหรับผู้ที่มีการจำนวนการขายยอดกรมธรรม์ให้กับลูกค้าสูงสุด จะมีการจัดงานมอบรางวัลให้ รวมไปถึงเชิญให้มาเป็น Speaker ให้พูดถึงกลยุทธ์ หรือข้อแนะนำให้กับตัวแทนคนอื่นๆ ซึ่งกลยุทธ์นี้ถูกเรียกว่า KAIZEN โดย ไคเซนเป็นเทคนิควิธีอันหนึ่งที่จะช่วยเพิ่มประสิทธิภาพและประสิทธิผลในการทำงานขององค์กร\r\n",
                ">\r\n",
                ">ดังนั้นแล้วจากหลักการดังกล่าว เมื่อเราทราบแล้วว่าใครที่ทำรายได้ให้กับโรงแรมของเรามากที่สุด เราอาจทำเหมือนธุรกิจในแวดวงประกัน คือเชิญให้ agent คนนั้นมาเป็น Speaker ให้กับโรงแรมของเรา เพื่อแนะนำถึงวิธีการ แนวทาง รวมถึงแสดงตัวอย่างให้เห็นว่า เวลาคุยกับลูกค้าควรใช้โทนเสียงแบบไหน โน้มน้าวลูกค้าอย่างไร เพื่อที่จะทำให้ลูกค้าตัดสินใจเลือกเข้าพัก ซึ่งจะช่วยส่งผลดีต่อโรงแรมของเรา\r\n",
                "\r\n",
                "\r\n",
                ""
            ],
            "metadata": {
                "language": "sql",
                "azdata_cell_guid": "be377c24-10e5-43b9-b29b-f20f0dd92857"
            },
            "attachments": {}
        },
        {
            "cell_type": "code",
            "source": [
                "select ag.agentid \"Agent_ID\"\r\n",
                "    ,ag.afirst_name \"First_Name\"\r\n",
                "    ,ag.alast_name \"Last_Name\"\r\n",
                "    ,sum(DATE_PART('day',checkout - checkin)*1.0*hrm.price) \"Grand_Total\"\r\n",
                "    from agent ag\r\n",
                "    inner join reservation rs using(agentid)\r\n",
                "    inner join \"Hotel_roomtype_Meal\" hrm \r\n",
                "        on rs.hotel_room_meal_id = hrm.hotelroommeal_id\r\n",
                "    where checkin is not NULL\r\n",
                "    group by ag.agentid\r\n",
                "    order by \"Grand_Total\" desc \r\n",
                "    limit 10 "
            ],
            "metadata": {
                "language": "sql",
                "azdata_cell_guid": "71a65c06-5ce7-42dc-ab78-1549e9abbcb5",
                "tags": []
            },
            "outputs": [
                {
                    "output_type": "display_data",
                    "data": {
                        "text/html": "(10 row(s) affected)"
                    },
                    "metadata": {}
                },
                {
                    "output_type": "display_data",
                    "data": {
                        "text/html": "Total execution time: 00:00:00.041"
                    },
                    "metadata": {}
                },
                {
                    "output_type": "execute_result",
                    "metadata": {},
                    "execution_count": 7,
                    "data": {
                        "application/vnd.dataresource+json": {
                            "schema": {
                                "fields": [
                                    {
                                        "name": "Agent_ID"
                                    },
                                    {
                                        "name": "First_Name"
                                    },
                                    {
                                        "name": "Last_Name"
                                    },
                                    {
                                        "name": "Grand_Total"
                                    }
                                ]
                            },
                            "data": [
                                {
                                    "0": "240",
                                    "1": "Israel",
                                    "2": "Found",
                                    "3": "฿107,348,000.00"
                                },
                                {
                                    "0": "9",
                                    "1": "Samuel",
                                    "2": "Laytham",
                                    "3": "฿94,297,400.00"
                                },
                                {
                                    "0": "250",
                                    "1": "Elladine",
                                    "2": "Dyke",
                                    "3": "฿41,224,900.00"
                                },
                                {
                                    "0": "40",
                                    "1": "Wayland",
                                    "2": "Really",
                                    "3": "฿36,595,000.00"
                                },
                                {
                                    "0": "241",
                                    "1": "Bren",
                                    "2": "Ianinotti",
                                    "3": "฿29,013,500.00"
                                },
                                {
                                    "0": "314",
                                    "1": "Willyt",
                                    "2": "Vouls",
                                    "3": "฿17,852,900.00"
                                },
                                {
                                    "0": "14",
                                    "1": "Boniface",
                                    "2": "Lomasny",
                                    "3": "฿17,119,600.00"
                                },
                                {
                                    "0": "7",
                                    "1": "Cammi",
                                    "2": "Swaffield",
                                    "3": "฿17,061,200.00"
                                },
                                {
                                    "0": "243",
                                    "1": "Blondell",
                                    "2": "Cristofolini",
                                    "3": "฿16,485,900.00"
                                },
                                {
                                    "0": "6",
                                    "1": "Boyd",
                                    "2": "Figge",
                                    "3": "฿9,840,500.00"
                                }
                            ]
                        },
                        "text/html": [
                            "<table>",
                            "<tr><th>Agent_ID</th><th>First_Name</th><th>Last_Name</th><th>Grand_Total</th></tr>",
                            "<tr><td>240</td><td>Israel</td><td>Found</td><td>฿107,348,000.00</td></tr>",
                            "<tr><td>9</td><td>Samuel</td><td>Laytham</td><td>฿94,297,400.00</td></tr>",
                            "<tr><td>250</td><td>Elladine</td><td>Dyke</td><td>฿41,224,900.00</td></tr>",
                            "<tr><td>40</td><td>Wayland</td><td>Really</td><td>฿36,595,000.00</td></tr>",
                            "<tr><td>241</td><td>Bren</td><td>Ianinotti</td><td>฿29,013,500.00</td></tr>",
                            "<tr><td>314</td><td>Willyt</td><td>Vouls</td><td>฿17,852,900.00</td></tr>",
                            "<tr><td>14</td><td>Boniface</td><td>Lomasny</td><td>฿17,119,600.00</td></tr>",
                            "<tr><td>7</td><td>Cammi</td><td>Swaffield</td><td>฿17,061,200.00</td></tr>",
                            "<tr><td>243</td><td>Blondell</td><td>Cristofolini</td><td>฿16,485,900.00</td></tr>",
                            "<tr><td>6</td><td>Boyd</td><td>Figge</td><td>฿9,840,500.00</td></tr>",
                            "</table>"
                        ]
                    }
                }
            ],
            "execution_count": 7
        },
        {
            "cell_type": "markdown",
            "source": [
                "### Q4. ช่วงเวลาใด (Time) ที่มีการจองห้องพักกับทางโรงแรมมากที่สุด\n",
                "\n",
                "> Suggestion : จากผลลัพธ์ที่เราได้ จะพบว่า ในช่วงเวลา 19.00 - 24.00 นั้น มี number of reservations มามากที่สุดซึ่งเป็นช่วงเวลาหลังจากเลิกทำงานของคนปกติ ซึ่งในช่วงเวลานั้นมีโอกาสมากกว่าที่ลูกค้าจะ online กล่าวคือมีการใช้งานผ่านโทรศัพท์\n",
                "> \n",
                "> ดังนั้นจากในเรื่องของการทำโฆษณาแบบ mass marketing ผ่านหลักการตลาดนั้น หากเราทำการ deploy commercial message ไปหาลูกค้าในจำนวนคนที่เท่าๆกัน โอกาสที่ลูกค้าจะเห็น message ของเรานั้นจะมีมากกว่าในช่วงเวลาที่ทำงาน\n",
                "> \n",
                "> โดยสรุป หากธุรกิจของเราต้องการส่ง promotion หรือกิจกรรมส่งเสริมการขายต่างๆ ที่จะเป็นการ engage ให้ลูกค้าสนใจธุรกิจของเรา ควรที่จะทำการยิง advertisement หรือส่ง commercial message ในช่วงเวลา 19.00 - 24.00 ซึ่งเป็นช่วงเวลาที่เหมาะสมที่สุด"
            ],
            "metadata": {
                "language": "sql",
                "azdata_cell_guid": "16098458-3da5-4d9c-bfdf-53c4da5ab6f3"
            },
            "attachments": {}
        },
        {
            "cell_type": "code",
            "source": [
                "select to_char(EXTRACT(HOUR from res_dt),'00.00') \"Time\"\r\n",
                "    , count(res_dt) \"Number_of_Reservations\" from reservation\r\n",
                "GROUP BY \"Time\"\r\n",
                "ORDER BY \"Time\" DESC"
            ],
            "metadata": {
                "language": "sql",
                "azdata_cell_guid": "602450d8-20e5-4edd-ae41-c9a8680cec5d"
            },
            "outputs": [
                {
                    "output_type": "display_data",
                    "data": {
                        "text/html": "(24 row(s) affected)"
                    },
                    "metadata": {}
                },
                {
                    "output_type": "display_data",
                    "data": {
                        "text/html": "Total execution time: 00:00:00.123"
                    },
                    "metadata": {}
                },
                {
                    "output_type": "execute_result",
                    "metadata": {},
                    "execution_count": 18,
                    "data": {
                        "application/vnd.dataresource+json": {
                            "schema": {
                                "fields": [
                                    {
                                        "name": "Time"
                                    },
                                    {
                                        "name": "Number_of_Reservations"
                                    }
                                ]
                            },
                            "data": [
                                {
                                    "0": " 23.00",
                                    "1": "11168"
                                },
                                {
                                    "0": " 22.00",
                                    "1": "11150"
                                },
                                {
                                    "0": " 21.00",
                                    "1": "11317"
                                },
                                {
                                    "0": " 20.00",
                                    "1": "11098"
                                },
                                {
                                    "0": " 19.00",
                                    "1": "10972"
                                },
                                {
                                    "0": " 18.00",
                                    "1": "1356"
                                },
                                {
                                    "0": " 17.00",
                                    "1": "1439"
                                },
                                {
                                    "0": " 16.00",
                                    "1": "1448"
                                },
                                {
                                    "0": " 15.00",
                                    "1": "1445"
                                },
                                {
                                    "0": " 14.00",
                                    "1": "1431"
                                },
                                {
                                    "0": " 13.00",
                                    "1": "1412"
                                },
                                {
                                    "0": " 12.00",
                                    "1": "1418"
                                },
                                {
                                    "0": " 11.00",
                                    "1": "1441"
                                },
                                {
                                    "0": " 10.00",
                                    "1": "1429"
                                },
                                {
                                    "0": " 09.00",
                                    "1": "1446"
                                },
                                {
                                    "0": " 08.00",
                                    "1": "1422"
                                },
                                {
                                    "0": " 07.00",
                                    "1": "1443"
                                },
                                {
                                    "0": " 06.00",
                                    "1": "1395"
                                },
                                {
                                    "0": " 05.00",
                                    "1": "1393"
                                },
                                {
                                    "0": " 04.00",
                                    "1": "790"
                                },
                                {
                                    "0": " 03.00",
                                    "1": "791"
                                },
                                {
                                    "0": " 02.00",
                                    "1": "756"
                                },
                                {
                                    "0": " 01.00",
                                    "1": "814"
                                },
                                {
                                    "0": " 00.00",
                                    "1": "835"
                                }
                            ]
                        },
                        "text/html": [
                            "<table>",
                            "<tr><th>Time</th><th>Number_of_Reservations</th></tr>",
                            "<tr><td> 23.00</td><td>11168</td></tr>",
                            "<tr><td> 22.00</td><td>11150</td></tr>",
                            "<tr><td> 21.00</td><td>11317</td></tr>",
                            "<tr><td> 20.00</td><td>11098</td></tr>",
                            "<tr><td> 19.00</td><td>10972</td></tr>",
                            "<tr><td> 18.00</td><td>1356</td></tr>",
                            "<tr><td> 17.00</td><td>1439</td></tr>",
                            "<tr><td> 16.00</td><td>1448</td></tr>",
                            "<tr><td> 15.00</td><td>1445</td></tr>",
                            "<tr><td> 14.00</td><td>1431</td></tr>",
                            "<tr><td> 13.00</td><td>1412</td></tr>",
                            "<tr><td> 12.00</td><td>1418</td></tr>",
                            "<tr><td> 11.00</td><td>1441</td></tr>",
                            "<tr><td> 10.00</td><td>1429</td></tr>",
                            "<tr><td> 09.00</td><td>1446</td></tr>",
                            "<tr><td> 08.00</td><td>1422</td></tr>",
                            "<tr><td> 07.00</td><td>1443</td></tr>",
                            "<tr><td> 06.00</td><td>1395</td></tr>",
                            "<tr><td> 05.00</td><td>1393</td></tr>",
                            "<tr><td> 04.00</td><td>790</td></tr>",
                            "<tr><td> 03.00</td><td>791</td></tr>",
                            "<tr><td> 02.00</td><td>756</td></tr>",
                            "<tr><td> 01.00</td><td>814</td></tr>",
                            "<tr><td> 00.00</td><td>835</td></tr>",
                            "</table>"
                        ]
                    }
                }
            ],
            "execution_count": 18
        },
        {
            "cell_type": "markdown",
            "source": [
                "### Q5. ลูกค้าที่เป็นเด็กมีสัดส่วนเป็นเท่าใด หากเปรียบเทียบกับลูกค้าทั้งหมดที่เข้ามาพักในโรงแรม\n",
                "\n",
                "> Suggestion : จากการเก็บฐานข้อมูลของลูกค้า เป็นกลยุทธ์ทางการตลาดที่ทำให้ทราบถึงพฤติกรรมผู้บริโภคซึ่ง จากผลลัพธ์ที่ได้นั้นทำให้ทราบว่ามีสัดส่วนของลูกค้าที่เป็นเด็กคิดเป็นร้อยละ 8 % กล่าวคือ หากมีการจองห้องพัก 100 ห้อง จะมีครอบครัวที่มากับเด็กทั้งหมด 8 ห้อง\n",
                "> \n",
                "> และส่วนใหญ่ลูกค้าที่เป็นเด็กมักจะมากับผู้ใหญ่ ทำให้ทราบได้ว่าลูกค้าที่มาพักในโรงแรมนั้นจะมาเป็นครอบครัว ซึ่ง ในจุดนี้ทำให้ทางโรงแรมสามารถตอบสนองความต้องการของผู้ที่เข้ามาใช้บริการ และสามารถบริหารห้องพักได้ว่า ห้องพักแบบใดที่เหมาะกับการเข้าพักแบบครอบครัวได้ เช่น การตกแต่งห้องให้เป็นลายการ์ตูนให้ตรงตามกับความต้องการของเด็ก รวมถึงอาจให้ amenity kits สำหรับเด็ก เช่น ตุ๊กตา พวงกุญแจ เป็นต้น ซึ่งจะช่วยสร้างความประทับใจให้กับครอบครัวที่มีเด็กมาเข้าพักอีกด้วย ในครั้งถัดมาหากครอบครัวจะเดินทางมาพักผ่อน ก็จะทำให้เขานึกถึงโรงแรมของเราที่มีการดูแลเด็กเป็นอย่างดี"
            ],
            "metadata": {
                "azdata_cell_guid": "d5fc0c15-d693-4a0c-a1aa-aba6f66b7134"
            },
            "attachments": {}
        },
        {
            "cell_type": "code",
            "source": [
                "with cte_children as(\r\n",
                "select resid, count(*) as \"Count_ChildrenBabies\"\r\n",
                "    from reservation\r\n",
                "    where ((children > 0) or (babies > 0)) and cancel is null\r\n",
                "    group by resid\r\n",
                "    order by resid),\r\n",
                "\r\n",
                "cte_all as(\r\n",
                "select resid, count(*) as \"Count_All\"\r\n",
                "    from reservation\r\n",
                "    where cancel is null\r\n",
                "    group by resid\r\n",
                "    order by resid)\r\n",
                "\r\n",
                "select count(\"Count_ChildrenBabies\") as \"Count_ChildrenBabies\"\r\n",
                ", count(\"Count_All\") as \"Count_All\"\r\n",
                ", to_char(count(\"Count_ChildrenBabies\")*100.0/count(\"Count_All\")*1.0, '99.0000%') as \"Percentage_of_ChildrenBabies\"\r\n",
                "    from cte_all\r\n",
                "    left join cte_children using (resid)"
            ],
            "metadata": {
                "azdata_cell_guid": "1849961b-919a-4010-9e86-726891028fe7",
                "language": "sql"
            },
            "outputs": [
                {
                    "output_type": "display_data",
                    "data": {
                        "text/html": "(1 row(s) affected)"
                    },
                    "metadata": {}
                },
                {
                    "output_type": "display_data",
                    "data": {
                        "text/html": "Total execution time: 00:00:00.044"
                    },
                    "metadata": {}
                },
                {
                    "output_type": "execute_result",
                    "metadata": {},
                    "execution_count": 9,
                    "data": {
                        "application/vnd.dataresource+json": {
                            "schema": {
                                "fields": [
                                    {
                                        "name": "Count_ChildrenBabies"
                                    },
                                    {
                                        "name": "Count_All"
                                    },
                                    {
                                        "name": "Percentage_of_ChildrenBabies"
                                    }
                                ]
                            },
                            "data": [
                                {
                                    "0": "4764",
                                    "1": "58187",
                                    "2": "  8.1874%"
                                }
                            ]
                        },
                        "text/html": [
                            "<table>",
                            "<tr><th>Count_ChildrenBabies</th><th>Count_All</th><th>Percentage_of_ChildrenBabies</th></tr>",
                            "<tr><td>4764</td><td>58187</td><td>  8.1874%</td></tr>",
                            "</table>"
                        ]
                    }
                }
            ],
            "execution_count": 9
        },
        {
            "cell_type": "markdown",
            "source": [
                "### Q6. ลูกค้าที่เข้ามาพักส่วนใหญ่มีการเลือกทานอาหารรูปแบบใด\n",
                "\n",
                "> Suggestion : จากคำถามในข้อนี้ จะช่วยให้เราสามารถทำการวิเคราะห์เกี่ยวกับ stock วัตถุดิบของเราได้ จากผลลัพธ์ดังกล่าว จะมี Meal\\_Type ทั้งหมด 4 แบบ\n",
                "> \n",
                "> จากผลลัพธ์ที่เราได้ จะเห็นว่าส่วนใหญ่แล้วเมื่อลูกค้าทำการจองห้องเข้ามาส่วนใหญ่จะเลือกรับประทานอาหารเช้าด้วย แปลว่าทางโรงแรมต้องมีการเตรียมวัตถุดิบให้พร้อม รวมถึงคำนวณปริมาณอาหารที่จะนำออกมาเสิร์ฟในแต่ละวัน ว่าควรนำออกมามาก-น้อยเพียงใด เพื่อไม่ก่อให้เกิด food-waste ซึ่งจะเป็นผลดีต่อทั้งโรงแรมและช่วยลดปัญหาภาวะโลกร้อนอีกด้วย"
            ],
            "metadata": {
                "language": "sql",
                "azdata_cell_guid": "22a8addb-1e5c-48b1-a1e1-51929b53e781"
            },
            "attachments": {}
        },
        {
            "cell_type": "code",
            "source": [
                "select \"Meal\".mdescr \"Meal_Type\" ,count(*) \"Number_of_Rooms\" from \"Meal\"\r\n",
                "inner JOIN \"Hotel_roomtype_Meal\" hrm using (mealid)\r\n",
                "inner join reservation res on hrm.hotelroommeal_id = res.actual_hotelroommeal\r\n",
                "GROUP BY \"Meal\".mdescr"
            ],
            "metadata": {
                "azdata_cell_guid": "ba45464d-f508-438f-a1f2-42a4994a5dce",
                "language": "sql"
            },
            "outputs": [
                {
                    "output_type": "display_data",
                    "data": {
                        "text/html": "(4 row(s) affected)"
                    },
                    "metadata": {}
                },
                {
                    "output_type": "display_data",
                    "data": {
                        "text/html": "Total execution time: 00:00:00.031"
                    },
                    "metadata": {}
                },
                {
                    "output_type": "execute_result",
                    "metadata": {},
                    "execution_count": 10,
                    "data": {
                        "application/vnd.dataresource+json": {
                            "schema": {
                                "fields": [
                                    {
                                        "name": "Meal_Type"
                                    },
                                    {
                                        "name": "Number_of_Rooms"
                                    }
                                ]
                            },
                            "data": [
                                {
                                    "0": "Bed & Breakfast",
                                    "1": "45110"
                                },
                                {
                                    "0": "Half Board",
                                    "1": "5771"
                                },
                                {
                                    "0": "Full Board",
                                    "1": "229"
                                },
                                {
                                    "0": "No meal",
                                    "1": "6113"
                                }
                            ]
                        },
                        "text/html": [
                            "<table>",
                            "<tr><th>Meal_Type</th><th>Number_of_Rooms</th></tr>",
                            "<tr><td>Bed &amp; Breakfast</td><td>45110</td></tr>",
                            "<tr><td>Half Board</td><td>5771</td></tr>",
                            "<tr><td>Full Board</td><td>229</td></tr>",
                            "<tr><td>No meal</td><td>6113</td></tr>",
                            "</table>"
                        ]
                    }
                }
            ],
            "execution_count": 10
        },
        {
            "cell_type": "markdown",
            "source": [
                "### Q7. ในเดือนใดที่มีจำนวนลูกค้าเข้าพักน้อยที่สุด\n",
                "\n",
                "> Suggestion : ภายใต้การดำเนินธุรกิจนั้น การมีลูกค้ามีใช้บริการเป็นสิ่งสำคัญเพื่อที่จะสามารถสร้างผลประกอบการที่ดีให้กับบริษัทได้ อย่างไรก็ตาม\n",
                "> \n",
                "> การดำเนินธุรกิจนั้นจะมีสิ่งที่เรียกว่า fixed cost ที่จำเป็นต้องจ่ายทุกเดือน ซึ่งหากบริษัทไม่สามารถหารายได้ในระดับเดียวกับ fixed cost ได้จะส่งผลให้บริษัทนั้นขาดทุน\n",
                "> \n",
                "> ดังนั้นแล้วรายได้หลักของธุรกิจมาจากการที่ลูกค้าเข้ามาใช้บริการ เมื่อเราสังเกตจากผลลัพธ์นั้น และให้ความสำคัญกับ 3 อันดับแรกที่มีจำนวนลูกค้าเข้าพักน้อยสุด จะทำให้เราเห็นได้ว่า ในช่วงเดือนมกราคม พฤศจิกายน และธันวาคม ซึ่งเมื่อเราวิเคราะห์เบื้องต้นแล้วจะทำให้เราได้เหตุผลดังต่อไปนี้\n",
                "> \n",
                "> เนื่องจากที่พักของเราแบ่งออกเป็น 2 แห่ง ได้แก่ resort hotel และ city hotel โดยเมื่อพิจารณาเป็นรายแห่งแล้วจะทำให้เราเห็นภาพดังนี้\n",
                "> \n",
                "> - ในกรณีของ resort hotel ของเรานั้นตั้งอยู่ในสถานที่ที่ค่อนข้างเป็นป่า ซึ่งใกล้ชิดกับธรรมชาติเหมาะแก่การพักผ่อนหย่อนใจ แต่อย่างไรก็ตาม เราจะเห็นว่าในช่วงปีใหม่นั้นส่วนมากและผู้คนมักจะเดินทางไปยังสถานที่ท่องเที่ยว เช่น หัวหิน บางแสน พัทยา เป็นต้น ซึ่งเราสามารถแก้ปัญหาได้ด้วยการจัดกิจกรรมในช่วงปีใหม่ เช่น จัดสถานที่ให้เหมาะสมกับในช่วงปีใหม่ให้กับลูกค้าที่มาใช้บริการ และอาจมีการจัดกิจกรรม เช่น การจัด countdown party เพื่อช่วยตอบโจทย์ลูกค้าและเพิ่มโอกาสในการเข้าพักของลูกค้า\n",
                ">     \n",
                "> - ในกรณีของ city hotel ของเรานั้นตั้งอยู่ใจกลางเมือง ซึ่งจากเหตุผลด้านบนจึงทำให้เราพบว่าในช่วงเวลานั้นคนเดินทางออกจากตัวเมือง ไปยังต่างจังหวัด ซึ่งส่งผลให้มีลูกค้าเข้ามาใช้บริการน้อย ซึ่งเราสามารถแก้ปัญหาได้ด้วยการจัด promotion ให้กับลูกค้าของเรา เช่น เมื่อจองห้องพักในคืนวันปีใหม่ อาจแถม package dinner ฟรี ที่ชั้นบนสุดของโรงแรม ที่จะสามารถเห็นวิวจุดพลุ countdown ปีใหม่ของห้างสรรพสินค้าต่างๆ ไม่ว่าจะเป็น Iconsiam หรือ Siam Paragon ได้ ซึ่งจะช่วยกระตุ้นให้ลูกค้ามีความสนใจในการเข้าพัก\n",
                ">     \n",
                "> \n",
                "> เมื่อเราสามารถเพิ่มจำนวนลูกค้าจากการกระตุ้นยอดขายผ่านแผนการตลาด ไม่ว่าจะเป็นการจัด promotion หรือการทำโฆษณาให้โรงแรมของเราเป็นที่รู้จักมากยิ่งขึ้น ซึ่งช่วยเพิ่ม engagement ให้กับ potential customer และช่วยเพิ่มจำนวนการเข้าพักให้กับโรงแรมได้ จะส่งผลให้เราสามารถเพิ่มรายได้ให้เหนือกว่า fixed cost และสร้างกำไรได้ในที่สุด"
            ],
            "metadata": {
                "language": "sql",
                "azdata_cell_guid": "fc32c304-db9e-4924-b7d3-20c57ac3e90e"
            },
            "attachments": {}
        },
        {
            "cell_type": "code",
            "source": [
                "SELECT \r\n",
                "    to_char(arrival_date,'Month') \"Month\"\r\n",
                "    ,count(*) \"Number_of_Reservations\"\r\n",
                "    from reservation \r\n",
                "    GROUP BY \"Month\"\r\n",
                "    ORDER BY \"Number_of_Reservations\" ASC"
            ],
            "metadata": {
                "language": "sql",
                "azdata_cell_guid": "9c230cc6-bdc6-4151-8b39-108c9d601b3a"
            },
            "outputs": [
                {
                    "output_type": "display_data",
                    "data": {
                        "text/html": "(12 row(s) affected)"
                    },
                    "metadata": {}
                },
                {
                    "output_type": "display_data",
                    "data": {
                        "text/html": "Total execution time: 00:00:00.039"
                    },
                    "metadata": {}
                },
                {
                    "output_type": "execute_result",
                    "metadata": {},
                    "execution_count": 11,
                    "data": {
                        "application/vnd.dataresource+json": {
                            "schema": {
                                "fields": [
                                    {
                                        "name": "Month"
                                    },
                                    {
                                        "name": "Number_of_Reservations"
                                    }
                                ]
                            },
                            "data": [
                                {
                                    "0": "January  ",
                                    "1": "4265"
                                },
                                {
                                    "0": "November ",
                                    "1": "4626"
                                },
                                {
                                    "0": "December ",
                                    "1": "4638"
                                },
                                {
                                    "0": "February ",
                                    "1": "5604"
                                },
                                {
                                    "0": "September",
                                    "1": "5999"
                                },
                                {
                                    "0": "October  ",
                                    "1": "6178"
                                },
                                {
                                    "0": "March    ",
                                    "1": "6868"
                                },
                                {
                                    "0": "June     ",
                                    "1": "7118"
                                },
                                {
                                    "0": "April    ",
                                    "1": "7244"
                                },
                                {
                                    "0": "May      ",
                                    "1": "7550"
                                },
                                {
                                    "0": "July     ",
                                    "1": "9184"
                                },
                                {
                                    "0": "August   ",
                                    "1": "10335"
                                }
                            ]
                        },
                        "text/html": [
                            "<table>",
                            "<tr><th>Month</th><th>Number_of_Reservations</th></tr>",
                            "<tr><td>January  </td><td>4265</td></tr>",
                            "<tr><td>November </td><td>4626</td></tr>",
                            "<tr><td>December </td><td>4638</td></tr>",
                            "<tr><td>February </td><td>5604</td></tr>",
                            "<tr><td>September</td><td>5999</td></tr>",
                            "<tr><td>October  </td><td>6178</td></tr>",
                            "<tr><td>March    </td><td>6868</td></tr>",
                            "<tr><td>June     </td><td>7118</td></tr>",
                            "<tr><td>April    </td><td>7244</td></tr>",
                            "<tr><td>May      </td><td>7550</td></tr>",
                            "<tr><td>July     </td><td>9184</td></tr>",
                            "<tr><td>August   </td><td>10335</td></tr>",
                            "</table>"
                        ]
                    }
                }
            ],
            "execution_count": 11
        },
        {
            "cell_type": "markdown",
            "source": [
                "### Q8. แนวโน้มของการยกเลิกห้องพักของโรงแรมเป็นอย่างไร\n",
                "\n",
                "> Suggestion : สัดส่วนของการยกเลิกห้องพักมีความสำคัญกับบริษัทอย่างมีนัยสำคัญ หากจำนวนของลูกค้าที่มาใช้บริการน้อยลง ก็ทำให้บริษัทยากที่จะสามารถดำเนินธุรกิจ หรือสร้างผลกำไรได้ ดังนั้นเราจึงต้องมีการพิจารณาถึงบริบทของลูกค้าที่มีการจองเข้ามาแล้ว แต่ทำการยกเลิกไป\n",
                "> \n",
                "> จากตัวผลลัพธ์ที่ทำการ analysis ออกมา จะทำให้เราเห็นว่าในช่วงปีหลังๆ คือปี 2017 มีแนวโน้มของ %\\_of\\_Cancellation ที่สูงขึ้นอย่างมีนัยสำคัญ\n",
                "> \n",
                "> เมื่อกลับมาวิเคราะห์ถึง threat ของบริษัทที่เป็นไปได้ที่ส่งผลให้สัดส่วนของการยกเลิกสูงขึ้นนั้น อาจเกิดได้หลายกรณีเช่น ผู้แข่งขันรายใหม่, ความพึงพอใจของลูกค้า ซึ่งในส่วนนี้ยังมีข้อมูลเบื้องลึกที่ยังต้องทำการวิเคราะห์อีกมาก จึงจะสามารถสรุปสาเหตุได้ ในเบื้องต้นจึงได้มีการแจ้งฝ่าย operation และ customer service ให้โทรกลับไปหาลูกค้าที่ทำการยกเลิก เพื่อรวบรวมข้อมูลว่าเพราะเหตุใด เมื่อลูกค้าได้จองห้องพักกับทางเราแล้ว แต่กลับยกเลิก เพื่อนำข้อมูลเหล่านั้นมาช่วยในการวิเคราะห์สำหรับการประชุมใหญ่ที่จะถึงในช่วงสิ้นไตรมาสที่ 4 นี้"
            ],
            "metadata": {
                "language": "sql",
                "azdata_cell_guid": "7e288cb6-d8dc-4244-9f97-e77756e5628d"
            },
            "attachments": {}
        },
        {
            "cell_type": "code",
            "source": [
                "SELECT \r\n",
                "    extract(year from arrival_date) \"Year\" \r\n",
                "    ,to_char(arrival_date,'Month') \"Month\"\r\n",
                "    ,to_char((count(cancel)*1.0/count(resid)*1.0)*100 ,'90.0000%') \"%_of_Cancellation\"\r\n",
                "    from reservation \r\n",
                "\r\n",
                "GROUP BY \"Year\" ,extract(month from arrival_date),\"Month\"\r\n",
                "ORDER BY \"Year\",extract(month from arrival_date) ASC \r\n",
                ""
            ],
            "metadata": {
                "azdata_cell_guid": "0054e68b-3f5a-4121-822e-368474c41bab",
                "language": "sql"
            },
            "outputs": [
                {
                    "output_type": "display_data",
                    "data": {
                        "text/html": "(26 row(s) affected)"
                    },
                    "metadata": {}
                },
                {
                    "output_type": "display_data",
                    "data": {
                        "text/html": "Total execution time: 00:00:00.076"
                    },
                    "metadata": {}
                },
                {
                    "output_type": "execute_result",
                    "metadata": {},
                    "execution_count": 21,
                    "data": {
                        "application/vnd.dataresource+json": {
                            "schema": {
                                "fields": [
                                    {
                                        "name": "Year"
                                    },
                                    {
                                        "name": "Month"
                                    },
                                    {
                                        "name": "%_of_Cancellation"
                                    }
                                ]
                            },
                            "data": [
                                {
                                    "0": "2015",
                                    "1": "July     ",
                                    "2": " 29.2142%"
                                },
                                {
                                    "0": "2015",
                                    "1": "August   ",
                                    "2": " 22.7961%"
                                },
                                {
                                    "0": "2015",
                                    "1": "September",
                                    "2": " 18.7817%"
                                },
                                {
                                    "0": "2015",
                                    "1": "October  ",
                                    "2": " 15.9605%"
                                },
                                {
                                    "0": "2015",
                                    "1": "November ",
                                    "2": " 13.7319%"
                                },
                                {
                                    "0": "2015",
                                    "1": "December ",
                                    "2": " 17.4719%"
                                },
                                {
                                    "0": "2016",
                                    "1": "January  ",
                                    "2": " 14.0634%"
                                },
                                {
                                    "0": "2016",
                                    "1": "February ",
                                    "2": " 15.9766%"
                                },
                                {
                                    "0": "2016",
                                    "1": "March    ",
                                    "2": " 22.0798%"
                                },
                                {
                                    "0": "2016",
                                    "1": "April    ",
                                    "2": " 26.0231%"
                                },
                                {
                                    "0": "2016",
                                    "1": "May      ",
                                    "2": " 24.8076%"
                                },
                                {
                                    "0": "2016",
                                    "1": "June     ",
                                    "2": " 24.8038%"
                                },
                                {
                                    "0": "2016",
                                    "1": "July     ",
                                    "2": " 27.3165%"
                                },
                                {
                                    "0": "2016",
                                    "1": "August   ",
                                    "2": " 32.0129%"
                                },
                                {
                                    "0": "2016",
                                    "1": "September",
                                    "2": " 28.2432%"
                                },
                                {
                                    "0": "2016",
                                    "1": "October  ",
                                    "2": " 28.6096%"
                                },
                                {
                                    "0": "2016",
                                    "1": "November ",
                                    "2": " 23.9046%"
                                },
                                {
                                    "0": "2016",
                                    "1": "December ",
                                    "2": " 32.2253%"
                                },
                                {
                                    "0": "2017",
                                    "1": "January  ",
                                    "2": " 25.9830%"
                                },
                                {
                                    "0": "2017",
                                    "1": "February ",
                                    "2": " 26.4455%"
                                },
                                {
                                    "0": "2017",
                                    "1": "March    ",
                                    "2": " 25.1340%"
                                },
                                {
                                    "0": "2017",
                                    "1": "April    ",
                                    "2": " 33.7308%"
                                },
                                {
                                    "0": "2017",
                                    "1": "May      ",
                                    "2": " 32.3346%"
                                },
                                {
                                    "0": "2017",
                                    "1": "June     ",
                                    "2": " 33.5367%"
                                },
                                {
                                    "0": "2017",
                                    "1": "July     ",
                                    "2": " 34.5415%"
                                },
                                {
                                    "0": "2017",
                                    "1": "August   ",
                                    "2": " 36.2963%"
                                }
                            ]
                        },
                        "text/html": [
                            "<table>",
                            "<tr><th>Year</th><th>Month</th><th>%_of_Cancellation</th></tr>",
                            "<tr><td>2015</td><td>July     </td><td> 29.2142%</td></tr>",
                            "<tr><td>2015</td><td>August   </td><td> 22.7961%</td></tr>",
                            "<tr><td>2015</td><td>September</td><td> 18.7817%</td></tr>",
                            "<tr><td>2015</td><td>October  </td><td> 15.9605%</td></tr>",
                            "<tr><td>2015</td><td>November </td><td> 13.7319%</td></tr>",
                            "<tr><td>2015</td><td>December </td><td> 17.4719%</td></tr>",
                            "<tr><td>2016</td><td>January  </td><td> 14.0634%</td></tr>",
                            "<tr><td>2016</td><td>February </td><td> 15.9766%</td></tr>",
                            "<tr><td>2016</td><td>March    </td><td> 22.0798%</td></tr>",
                            "<tr><td>2016</td><td>April    </td><td> 26.0231%</td></tr>",
                            "<tr><td>2016</td><td>May      </td><td> 24.8076%</td></tr>",
                            "<tr><td>2016</td><td>June     </td><td> 24.8038%</td></tr>",
                            "<tr><td>2016</td><td>July     </td><td> 27.3165%</td></tr>",
                            "<tr><td>2016</td><td>August   </td><td> 32.0129%</td></tr>",
                            "<tr><td>2016</td><td>September</td><td> 28.2432%</td></tr>",
                            "<tr><td>2016</td><td>October  </td><td> 28.6096%</td></tr>",
                            "<tr><td>2016</td><td>November </td><td> 23.9046%</td></tr>",
                            "<tr><td>2016</td><td>December </td><td> 32.2253%</td></tr>",
                            "<tr><td>2017</td><td>January  </td><td> 25.9830%</td></tr>",
                            "<tr><td>2017</td><td>February </td><td> 26.4455%</td></tr>",
                            "<tr><td>2017</td><td>March    </td><td> 25.1340%</td></tr>",
                            "<tr><td>2017</td><td>April    </td><td> 33.7308%</td></tr>",
                            "<tr><td>2017</td><td>May      </td><td> 32.3346%</td></tr>",
                            "<tr><td>2017</td><td>June     </td><td> 33.5367%</td></tr>",
                            "<tr><td>2017</td><td>July     </td><td> 34.5415%</td></tr>",
                            "<tr><td>2017</td><td>August   </td><td> 36.2963%</td></tr>",
                            "</table>"
                        ]
                    }
                }
            ],
            "execution_count": 21
        },
        {
            "cell_type": "markdown",
            "source": [
                "### Q9. ลูกค้าที่มีการยกเลิกการจองนั้น มีการจ่ายมัดจำหรือไม่ และในสัดส่วนอย่างละเท่าใด\n",
                ">Suggestion : สืบเนื่องจากแนวโน้มของการยกเลิกห้องพักที่มีสูงขึ้นในข้อที่แล้ว ทำให้เราต้องพิจารณาถึงประเภทของการจองว่า ในการจองนั้นมีการจ่ายมัดจำหรือไม่ ซึ่งทำให้เห็นว่าในการจอง 100 ครั้งจะมีลูกค้าประมาณ 1-2 คนจ่ายมัดจำ และที่เหลือเป็นการจองปากเปล่า ซึ่งสามารถสังเกตได้จากผลลัพธ์ ซึ่งบางครั้งหากลูกค้าไม่สะดวกมา แล้วแจ้งยกเลิกย่อมส่งผลเสียต่อทางโรงแรม ซึ่งจะมีค่าเสียโอกาสเกิดขึ้น (Opportunity Cost)\n",
                ">\n",
                ">ดังนั้นทางโรงแรมจึงมีแนวคิดที่จะมีการเปลี่ยนนโยบาย กล่าวคือหากจะมีการจองห้องพักใดๆ จะต้องมีการจ่ายมัดจำอย่างต่ำ 50% เพื่อที่จะช่วยในเชิงจิตวิทยาได้ว่าลูกค้ามีการจ่ายเงินมาแล้ว ก็คงไม่อยากเสียเงินมัดจำไปโดยที่ไม่ได้อะไรตอบแทน ดังนั้นหากลูกค้าไม่สะดวกมา อย่างมากที่สุดก็จะทำการเลื่อนวันเข้าพัก ซึ่งจะช่วยแก้ไขปัญหาการจองแล้วยกเลิกห้องพักได้ อันจะช่วยลดแนวโน้มของการยกเลิกลงอีกด้วย หรือหากลูกค้าทำการยกเลิก อย่างน้อยทางโรงแรมก็ยังมีรายได้ที่เป็นส่วนของเงินมัดจำนี้อีกด้วย\n",
                ""
            ],
            "metadata": {
                "language": "sql",
                "azdata_cell_guid": "51f720af-de67-4a8b-a3b9-8eab1cc61119"
            },
            "attachments": {}
        },
        {
            "cell_type": "code",
            "source": [
                "with \r\n",
                "cte as  (select count(*) \"Total_Reservations\" from reservation),\r\n",
                "\r\n",
                "cte_act as (select depositid, count(*) \"#_Reservation_by_Type\"  from reservation group by depositid)\r\n",
                "\r\n",
                "SELECT ddescr \"Deposit_Type\"\r\n",
                "    ,\"#_Reservation_by_Type\"\r\n",
                "    ,\"Total_Reservations\"\r\n",
                "    ,to_char((\"#_Reservation_by_Type\"*1.0)/(\"Total_Reservations\"*1.0)*100,'990.0000%') \"Percentage\" from cte_act\r\n",
                "inner join deposit USING (depositid)\r\n",
                "CROSS JOIN cte"
            ],
            "metadata": {
                "language": "sql",
                "azdata_cell_guid": "30b25ef1-c998-4fc9-84a2-b902811a9860"
            },
            "outputs": [
                {
                    "output_type": "display_data",
                    "data": {
                        "text/html": "(3 row(s) affected)"
                    },
                    "metadata": {}
                },
                {
                    "output_type": "display_data",
                    "data": {
                        "text/html": "Total execution time: 00:00:00.020"
                    },
                    "metadata": {}
                },
                {
                    "output_type": "execute_result",
                    "metadata": {},
                    "execution_count": 13,
                    "data": {
                        "application/vnd.dataresource+json": {
                            "schema": {
                                "fields": [
                                    {
                                        "name": "Deposit_Type"
                                    },
                                    {
                                        "name": "#_Reservation_by_Type"
                                    },
                                    {
                                        "name": "Total_Reservations"
                                    },
                                    {
                                        "name": "Percentage"
                                    }
                                ]
                            },
                            "data": [
                                {
                                    "0": "No deposit",
                                    "1": "78549",
                                    "2": "79609",
                                    "3": "  98.6685%"
                                },
                                {
                                    "0": "Non Refund",
                                    "1": "980",
                                    "2": "79609",
                                    "3": "   1.2310%"
                                },
                                {
                                    "0": "Refundable",
                                    "1": "80",
                                    "2": "79609",
                                    "3": "   0.1005%"
                                }
                            ]
                        },
                        "text/html": [
                            "<table>",
                            "<tr><th>Deposit_Type</th><th>#_Reservation_by_Type</th><th>Total_Reservations</th><th>Percentage</th></tr>",
                            "<tr><td>No deposit</td><td>78549</td><td>79609</td><td>  98.6685%</td></tr>",
                            "<tr><td>Non Refund</td><td>980</td><td>79609</td><td>   1.2310%</td></tr>",
                            "<tr><td>Refundable</td><td>80</td><td>79609</td><td>   0.1005%</td></tr>",
                            "</table>"
                        ]
                    }
                }
            ],
            "execution_count": 13
        },
        {
            "cell_type": "markdown",
            "source": [
                "### Q10. การมัดจำในแต่ละรูปแบบนั้น จะส่งผลให้ลูกค้าได้รับห้องที่จองไว้เป็นสัดส่วนเท่าใด\r\n",
                "\r\n",
                "> รูปแบบของการมัดจำของโรงแรมเรา มีอยู่ทั้งหมด 3 แบบ ซึ่งในส่วนของ NR (Non refundable) คือลูกค้ามีการจ่ายเงินมัดจำมาเต็มจำนวน ซึ่งจากผลลัพธ์ทำให้เราเห็นได้ว่า เราสามารถคงมาตรฐานที่จะรับประกันห้องให้ลูกค้าได้กล่าวคือ ลูกค้าจองมาแบบใด ลูกค้าจะได้ตามที่จอง\r\n",
                "> \r\n",
                "> แต่ในกรณีของ RF (Refundable) เมื่อมีการคำนวณออกมาเป็นสัดส่วนแล้ว เราจะเห็นว่ามีสัดส่วนได้ห้องตามที่จองต่ำกว่า No deposit ซึ่งในส่วนนี้ทางโรงแรมคิดว่าน่าจะเกิดจากการที่ลูกค้าจองห้องที่ได้รับความนิยมสูง เช่นห้อง Standard Room อย่างไรก็ตามทางทีม Operation ได้สังเกตเห็นว่าข้อมูลที่มีการเก็บมามีจำนวนน้อยกว่า No Deposit หลายเท่าตัว ซึ่งอาจ misleading และไม่ส่งผลต่อความเป็นจริงได้ ดังนั้นทางฝั่งของ Operation จึงได้เสนอให้ทางฝ่ายบริหาร observe กลุ่มลูกค้า Refundable ไปอีกสักระยะหนึ่งก่อน หากตัวเลขเหล่านี้ยังไม่ดีขึ้น จะมีการออกนโยบายให้เหมาะสม เช่น ให้ Priority กับลูกค้าที่จ่ายมัดจำ 50% ก่อนลูกค้าที่ไม่ได้จ่ายมัดจำเป็นต้น"
            ],
            "metadata": {
                "language": "sql",
                "azdata_cell_guid": "e47c9596-a01b-4a0b-8415-cbccabb97fb8"
            },
            "attachments": {}
        },
        {
            "cell_type": "code",
            "source": [
                "with \r\n",
                "cte as  (select depositid, count(*) \"Total_Reservations\"  from reservation\r\n",
                "                where checkin is not null\r\n",
                "                group by depositid),\r\n",
                "\r\n",
                "cte_act as (select depositid, count(*) \"Got_as_Booked\"  from reservation\r\n",
                "                where checkin is not null and hotel_room_meal_id = actual_hotelroommeal\r\n",
                "                group by depositid)\r\n",
                "\r\n",
                "SELECT ddescr \"Deposit_Type\"\r\n",
                "    ,\"Got_as_Booked\"\r\n",
                "    ,\"Total_Reservations\"\r\n",
                "    ,to_char((\"Got_as_Booked\"*1.0)/(\"Total_Reservations\"*1.0)*100,'990.0000%') \"Percentage\" from cte\r\n",
                "inner join cte_act using (depositid)\r\n",
                "inner join deposit USING (depositid)"
            ],
            "metadata": {
                "language": "sql",
                "azdata_cell_guid": "09210106-88fa-4290-88f8-c55712672a20"
            },
            "outputs": [
                {
                    "output_type": "display_data",
                    "data": {
                        "text/html": "(3 row(s) affected)"
                    },
                    "metadata": {}
                },
                {
                    "output_type": "display_data",
                    "data": {
                        "text/html": "Total execution time: 00:00:00.035"
                    },
                    "metadata": {}
                },
                {
                    "output_type": "execute_result",
                    "metadata": {},
                    "execution_count": 14,
                    "data": {
                        "application/vnd.dataresource+json": {
                            "schema": {
                                "fields": [
                                    {
                                        "name": "Deposit_Type"
                                    },
                                    {
                                        "name": "Got_as_Booked"
                                    },
                                    {
                                        "name": "Total_Reservations"
                                    },
                                    {
                                        "name": "Percentage"
                                    }
                                ]
                            },
                            "data": [
                                {
                                    "0": "No deposit",
                                    "1": "46231",
                                    "2": "57119",
                                    "3": "  80.9380%"
                                },
                                {
                                    "0": "Non Refund",
                                    "1": "49",
                                    "2": "49",
                                    "3": " 100.0000%"
                                },
                                {
                                    "0": "Refundable",
                                    "1": "43",
                                    "2": "55",
                                    "3": "  78.1818%"
                                }
                            ]
                        },
                        "text/html": [
                            "<table>",
                            "<tr><th>Deposit_Type</th><th>Got_as_Booked</th><th>Total_Reservations</th><th>Percentage</th></tr>",
                            "<tr><td>No deposit</td><td>46231</td><td>57119</td><td>  80.9380%</td></tr>",
                            "<tr><td>Non Refund</td><td>49</td><td>49</td><td> 100.0000%</td></tr>",
                            "<tr><td>Refundable</td><td>43</td><td>55</td><td>  78.1818%</td></tr>",
                            "</table>"
                        ]
                    }
                }
            ],
            "execution_count": 14
        },
        {
            "cell_type": "markdown",
            "source": [
                "---\r\n",
                "## Reference\r\n",
                "1. Dandagi, S. (2020). Hotel Booking Demand EDA/ Data Visualisation. Retrieved from https://www.kaggle.com/code/shrutidandagi/hotel-booking-demand-eda-data-visualisation/data\r\n",
                "\r\n",
                "2. (Picture of) Okurcalar Galeri Hotel Ultra, Tropki. Retrieved from https://tropki.com/images/hotels3/729665/b330708839-okurcalar-galeri-resort-hotel-ultra-all-inclusive.webp\r\n",
                "\r\n",
                "3. (Picture of) Suite Orchid Halekulani, Halekulani Okinawa Hotel. Retrieved from https://www.okinawa.halekulani.com/lang_module2/suite/images/img_suite_orchid02.jpg\r\n",
                "\r\n",
                "4. (Picture of) Imperial Superior Room, The Imperial Resort & Sports Club | Chiang Mai. Retrieved from https://www.imperialchiangmai.com/uploads/1/1/2/9/112964589/imc-superior-01_orig.jpg\r\n",
                "\r\n",
                "5. (Picture of) Resort Standard Room, Kingfisher Bay Resort (AU). Retrieved from \r\n",
                "https://www.kingfisherbay.com/media/k2/items/cache/73608782f50eb6af17bb69bdcd662692_M.jpg\r\n",
                "\r\n",
                "6. (Picture of) Deluxe City View Room @ Chennai Hotel, The Leela Palaces, Hotels and Resorts. \r\n",
                "Retrieved from https://www.theleela.com/prod/content/assets/styles/tl_1920_735/public/aio-banner/dekstop/deluxe-city-view-room-chennai-hotel.jpg?VersionId=Fccj.6wHcmwwEAiPlIDEalzyaRgSHArb&itok=NOMFoSjK\r\n",
                "\r\n",
                "7. (Picture of) Studio Suite City, Oyster Hotel Reviews. Retrieved from https://www.oyster.com/wp-content/uploads/sites/35/2019/05/526-2009-11-studio-suite-city-view-the-setai-v134206-1600.jpg\r\n",
                "\r\n",
                "8. (Picture of) Carnival City Luxury Room, Sun International, South Africa. Retrieved from https://www.suninternational.com/content/dam/suninternational/carnival-city/accommodation/CARNf3000-8669-carnival-city-luxury-room.jpg.sunimage.1400.525.jpg\r\n",
                "\r\n",
                ""
            ],
            "metadata": {
                "azdata_cell_guid": "d3951d34-3525-4862-83bf-2239e11c2cb9"
            },
            "attachments": {}
        }
    ]
}